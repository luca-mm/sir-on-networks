{
 "cells": [
  {
   "cell_type": "markdown",
   "id": "5082e445",
   "metadata": {},
   "source": [
    "# Agent-based simulation of SIR model on random networks\n",
    "Student: Luca Mihailescu (luca.mihailescu@fu-berlin.de)\\\n",
    "Coordinator: Sina Zendehroud, M.Sc."
   ]
  },
  {
   "cell_type": "markdown",
   "id": "5cae3387",
   "metadata": {},
   "source": [
    "## Dependencies"
   ]
  },
  {
   "cell_type": "code",
   "execution_count": null,
   "id": "e73dd341",
   "metadata": {},
   "outputs": [],
   "source": [
    "import networkx as nx\n",
    "import matplotlib.pyplot as plt\n",
    "import numpy as np\n",
    "import random\n",
    "import scipy as sp\n",
    "import scipy.integrate\n",
    "\n",
    "from scipy.integrate import odeint\n",
    "from scipy.stats import poisson"
   ]
  },
  {
   "cell_type": "markdown",
   "id": "82b475da",
   "metadata": {},
   "source": [
    "## Poisson graph\n",
    "This is the function for generating a graph with a Poisson distribution of degrees. It uses NetworkX's `expected_degree_graph(w)` to generate a graph (i.e. network) with given expected degrees, and SciPy's `poisson.rvs(mu)` to produce the series of degrees with a given expected value."
   ]
  },
  {
   "cell_type": "code",
   "execution_count": null,
   "id": "07db09da",
   "metadata": {},
   "outputs": [],
   "source": [
    "def poissongraph(n,mu):\n",
    "    z= np.zeros(n) #n is number of nodes\n",
    "    for i in range(n):\n",
    "        z[i]=poisson.rvs(mu) #mu is the expected value\n",
    "    G=nx.expected_degree_graph(z, selfloops=False)\n",
    "    return G"
   ]
  },
  {
   "cell_type": "markdown",
   "id": "5ab4ebc0",
   "metadata": {},
   "source": [
    "## Analytical model computation\n",
    "The SIR model:\n",
    "\n",
    "$$\\begin{equation}\n",
    "    \\begin{cases}\n",
    "      \\frac{dS}{dt}=-\\frac{\\beta I S}{N}\\\\\n",
    "      \\frac{dI}{dt}=\\frac{\\beta I S}{N}-\\gamma I\\\\\n",
    "      \\frac{dR}{dt}=\\gamma I\n",
    "    \\end{cases}\\,.\n",
    "\\end{equation}$$\n",
    "\n",
    "For numerically integrating this ODE, I used SciPy's `scipy.integrate.odeint(func, y0, t, args=())`. It takes as arguments the function to be integrated (in this case `model`), the initial conditions (in this case a vector of initial conditions), the sequence of time points for which to solve, and any additional arguments of the function (in this case $\\beta$ and $\\gamma$)."
   ]
  },
  {
   "cell_type": "code",
   "execution_count": null,
   "id": "c34c4bb8",
   "metadata": {},
   "outputs": [],
   "source": [
    "#System of differential equations\n",
    "def model(u, t, beta, gamma):\n",
    "    S = u[0]\n",
    "    I = u[1]\n",
    "    R = u[2]\n",
    "    N = S + I + R\n",
    "    dS_dt = - beta * I * S / N\n",
    "    dI_dt = beta * I * S / N - gamma * I\n",
    "    dR_dt = gamma * I\n",
    "    return [dS_dt, dI_dt, dR_dt]\n",
    "\n",
    "#The upper time limit for the integration\n",
    "tmax = 10.0 \n",
    "\n",
    "#Initial conditions\n",
    "S_start = 0.99\n",
    "I_start = 0.01\n",
    "\n",
    "t = np.linspace(0.0, tmax, 1000) #Time vector initialization\n",
    "args = (3.2, 0.23) #Tuple of disease parameters\n",
    "u0 = [S_start, I_start, 0] #Vector of initial S, I, R values to be passed to the model\n",
    "y = sp.integrate.odeint(model, u0, t, args) #ODE integration\n",
    "\n",
    "#Plot the results\n",
    "fig = plt.figure(figsize=(10, 7), dpi=100)\n",
    "ax = fig.add_subplot(111)\n",
    "h1, = ax.plot(t, y[:,0])\n",
    "h2, = ax.plot(t, y[:,1])\n",
    "h3, = ax.plot(t, y[:,2])\n",
    "\n",
    "ax.legend([h1, h2, h3], [\"Susceptible\", \"Infected\", \"Removed\"], fontsize=13)\n",
    "ax.set_xlabel(\"t\", fontsize=13)\n",
    "ax.set_ylabel(\"Population\", fontsize=13)\n",
    "ax.text(8.9, 0.35, r'$\\beta=3.2$', fontsize=13)\n",
    "ax.text(8.9, 0.3, r'$\\gamma=0.23$', fontsize=13)\n",
    "ax.text(8.9, 0.25, r'$I_0=0.01$', fontsize=13)\n",
    "ax.grid()\n",
    "plt.show()"
   ]
  },
  {
   "cell_type": "markdown",
   "id": "a24ff97d",
   "metadata": {},
   "source": [
    "## Agent-based simulation\n",
    "This is the function definition for the agent-based simulation of the SIR model on networks, as described at the seminar. It takes as arguments a graph $G$, the disease parameters $\\beta$ and $\\gamma$, the number of initially infected agents $I_0$, and finally the simulation step duration in days (by default 1). To run the simulation, see the section 'Run' below."
   ]
  },
  {
   "cell_type": "code",
   "execution_count": null,
   "id": "3a54e572",
   "metadata": {},
   "outputs": [],
   "source": [
    "def SIR_simulation(G, beta, gamma, I_0, step=1):\n",
    "    \n",
    "    #Setup\n",
    "    N = G.number_of_nodes()\n",
    "    t = 0\n",
    "    \n",
    "    susceptible = [i for i in range(N)]\n",
    "    infected = []\n",
    "    removed = []\n",
    "    \n",
    "    #Begin infection\n",
    "    n_i0 = I_0 if I_0 != 0 else 1 \n",
    "    for i in range(n_i0):\n",
    "        rand = random.randrange(N)\n",
    "        while not(rand in susceptible):\n",
    "            rand = random.randrange(N)\n",
    "        \n",
    "        susceptible.remove(rand)\n",
    "        infected.append(rand)\n",
    "        \n",
    "    n_S = [len(susceptible)]\n",
    "    n_I = [len(infected)]\n",
    "    n_R = [len(removed)]\n",
    "        \n",
    "    \n",
    "    #Simulation loop\n",
    "    while len(infected) != 0:\n",
    "        t += step\n",
    "        \n",
    "        for i in infected:\n",
    "            #Infection dynamics\n",
    "            for j in G.neighbors(i):\n",
    "                if j in susceptible and random.random() < (beta * step):\n",
    "                    susceptible.remove(j)\n",
    "                    infected.append(j)\n",
    "        \n",
    "            #Recovery dynamics\n",
    "            if random.random() < (gamma * step):\n",
    "                infected.remove(i)\n",
    "                removed.append(i)\n",
    "                \n",
    "        #Record statistics\n",
    "        n_S.append(len(susceptible))\n",
    "        n_I.append(len(infected))\n",
    "        n_R.append(len(removed))\n",
    "    \n",
    "    \n",
    "    return t, n_S, n_I, n_R"
   ]
  },
  {
   "cell_type": "markdown",
   "id": "5e7cc68c",
   "metadata": {},
   "source": [
    "### Visualisation"
   ]
  },
  {
   "cell_type": "code",
   "execution_count": null,
   "id": "37192115",
   "metadata": {},
   "outputs": [],
   "source": [
    "def plot_evolution():\n",
    "    X = t+1\n",
    "    Y = n_S[0] + n_I[0] + n_R[0]\n",
    "\n",
    "    fig = plt.figure(figsize=(10, 7), dpi=100)\n",
    "    ax = fig.add_subplot(111)\n",
    "    h1, = ax.plot(range(t+1), n_S)\n",
    "    h2, = ax.plot(range(t+1), n_I)\n",
    "    h3, = ax.plot(range(t+1), n_R)\n",
    "\n",
    "    ax.legend([h1, h2, h3], [\"Susceptible\", \"Infected\", \"Removed\"], loc='upper right', fontsize=13)\n",
    "    ax.set_xlabel(\"t\", fontsize=13)\n",
    "    ax.set_ylabel(\"Population\", fontsize=13)\n",
    "    ax.text(0.85*X, 0.5*Y, fr'$\\beta={beta}$', fontsize=13)\n",
    "    ax.text(0.85*X, 0.45*Y, fr'$\\gamma={gamma}$', fontsize=13)\n",
    "    ax.text(0.85*X, 0.4*Y, fr'$R_0={beta / gamma}$', fontsize=13)\n",
    "    ax.text(0.85*X, 0.35*Y, fr'$I_0={I_0}$', fontsize=13)\n",
    "    ax.text(0.85*X, 0.3*Y, fr'$N={N}$', fontsize=13)\n",
    "    ax.text(0.85*X, 0.25*Y, fr'$param={param}$', fontsize=13)\n",
    "    ax.grid()\n",
    "    plt.show()"
   ]
  },
  {
   "cell_type": "markdown",
   "id": "b804ed19",
   "metadata": {},
   "source": [
    "### Run"
   ]
  },
  {
   "cell_type": "code",
   "execution_count": null,
   "id": "68373b56",
   "metadata": {
    "scrolled": false
   },
   "outputs": [],
   "source": [
    "beta = 0.05\n",
    "gamma = 0.1\n",
    "I_0 = 2\n",
    "N = 10000\n",
    "param = 4\n",
    "\n",
    "#Remove comment for the desired network type \n",
    "#G = nx.erdos_renyi_graph(N, param)\n",
    "#G = nx.barabasi_albert_graph(N, param)\n",
    "G = poissongraph(N, param)\n",
    "\n",
    "t, n_S, n_I, n_R = SIR_simulation(G, beta, gamma, I_0, 1)\n",
    "plot_evolution()"
   ]
  }
 ],
 "metadata": {
  "kernelspec": {
   "display_name": "Python 3 (ipykernel)",
   "language": "python",
   "name": "python3"
  },
  "language_info": {
   "codemirror_mode": {
    "name": "ipython",
    "version": 3
   },
   "file_extension": ".py",
   "mimetype": "text/x-python",
   "name": "python",
   "nbconvert_exporter": "python",
   "pygments_lexer": "ipython3",
   "version": "3.10.0"
  }
 },
 "nbformat": 4,
 "nbformat_minor": 5
}
